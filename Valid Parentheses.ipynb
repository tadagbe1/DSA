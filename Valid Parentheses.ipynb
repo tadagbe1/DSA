{
 "cells": [
  {
   "cell_type": "code",
   "execution_count": 1,
   "id": "0f0dc041",
   "metadata": {},
   "outputs": [],
   "source": [
    "from typing import List"
   ]
  },
  {
   "cell_type": "code",
   "execution_count": 69,
   "id": "0c9e3077",
   "metadata": {},
   "outputs": [],
   "source": [
    "class Solution:\n",
    "    def isValid(self, s: str) -> bool:\n",
    "        pairs = {'(': ')', '{': '}', '[': ']'}\n",
    "        stack = []\n",
    "\n",
    "        for char in s:\n",
    "            if char in pairs:\n",
    "                stack.append(char)\n",
    "            elif not stack or pairs[stack.pop()]!=char:\n",
    "                return False\n",
    "                \n",
    "        return not stack\n"
   ]
  },
  {
   "cell_type": "markdown",
   "id": "0f4dd2d3",
   "metadata": {},
   "source": [
    "## Two lines version"
   ]
  },
  {
   "cell_type": "code",
   "execution_count": 85,
   "id": "b3acb992",
   "metadata": {},
   "outputs": [],
   "source": [
    "class Solution:\n",
    "    def isValid(self, s: str) -> bool:\n",
    "        stack, pairs = [], {'(': ')', '{': '}', '[': ']'}\n",
    "        return all((stack.append(char) or True) if char in pairs else stack and pairs[stack.pop()]==char for char in s) and not stack"
   ]
  },
  {
   "cell_type": "markdown",
   "id": "183ae5a7",
   "metadata": {},
   "source": [
    "## Test cases"
   ]
  },
  {
   "cell_type": "code",
   "execution_count": 86,
   "id": "e6e2192f",
   "metadata": {},
   "outputs": [
    {
     "name": "stdout",
     "output_type": "stream",
     "text": [
      "True\n"
     ]
    }
   ],
   "source": [
    "solution = Solution()\n",
    "result = solution.isValid(\"\")\n",
    "print(result)"
   ]
  },
  {
   "cell_type": "code",
   "execution_count": 87,
   "id": "2aafff19",
   "metadata": {},
   "outputs": [
    {
     "name": "stdout",
     "output_type": "stream",
     "text": [
      "True\n"
     ]
    }
   ],
   "source": [
    "solution = Solution()\n",
    "result = solution.isValid(\"()\")\n",
    "print(result)"
   ]
  },
  {
   "cell_type": "code",
   "execution_count": 88,
   "id": "38fdf235",
   "metadata": {},
   "outputs": [
    {
     "name": "stdout",
     "output_type": "stream",
     "text": [
      "True\n"
     ]
    }
   ],
   "source": [
    "solution = Solution()\n",
    "result = solution.isValid(\"()[]{}\")\n",
    "print(result)"
   ]
  },
  {
   "cell_type": "code",
   "execution_count": 89,
   "id": "2e949afb",
   "metadata": {},
   "outputs": [
    {
     "name": "stdout",
     "output_type": "stream",
     "text": [
      "False\n"
     ]
    }
   ],
   "source": [
    "solution = Solution()\n",
    "result = solution.isValid(\"(]\")\n",
    "print(result)"
   ]
  },
  {
   "cell_type": "code",
   "execution_count": 90,
   "id": "7e39dc7a",
   "metadata": {},
   "outputs": [
    {
     "name": "stdout",
     "output_type": "stream",
     "text": [
      "True\n"
     ]
    }
   ],
   "source": [
    "solution = Solution()\n",
    "result = solution.isValid(\"([])\")\n",
    "print(result)"
   ]
  },
  {
   "cell_type": "code",
   "execution_count": 91,
   "id": "5e92a2fc",
   "metadata": {},
   "outputs": [
    {
     "name": "stdout",
     "output_type": "stream",
     "text": [
      "False\n"
     ]
    }
   ],
   "source": [
    "solution = Solution()\n",
    "result = solution.isValid(\"([)]\")\n",
    "print(result)"
   ]
  }
 ],
 "metadata": {
  "kernelspec": {
   "display_name": "base",
   "language": "python",
   "name": "python3"
  },
  "language_info": {
   "codemirror_mode": {
    "name": "ipython",
    "version": 3
   },
   "file_extension": ".py",
   "mimetype": "text/x-python",
   "name": "python",
   "nbconvert_exporter": "python",
   "pygments_lexer": "ipython3",
   "version": "3.12.7"
  }
 },
 "nbformat": 4,
 "nbformat_minor": 5
}
