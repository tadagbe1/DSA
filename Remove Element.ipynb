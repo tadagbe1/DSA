{
 "cells": [
  {
   "cell_type": "code",
   "execution_count": 1,
   "id": "28f8e76a",
   "metadata": {},
   "outputs": [],
   "source": [
    "from typing import List"
   ]
  },
  {
   "cell_type": "code",
   "execution_count": 18,
   "id": "fb360610",
   "metadata": {},
   "outputs": [],
   "source": [
    "class Solution:\n",
    "    def removeElement(self, nums: List[int], val: int) -> int:\n",
    "        if not nums:\n",
    "            return 0\n",
    "        \n",
    "        k = 0\n",
    "        for i in range(len(nums)):\n",
    "            if nums[i] != val:\n",
    "                if i!= k:\n",
    "                    nums[k] = nums[i]\n",
    "                    nums[i] = val\n",
    "                k += 1\n",
    "        return nums, k"
   ]
  },
  {
   "cell_type": "code",
   "execution_count": 19,
   "id": "859302c0",
   "metadata": {},
   "outputs": [
    {
     "name": "stdout",
     "output_type": "stream",
     "text": [
      "([2, 2, 3, 3], 2)\n"
     ]
    }
   ],
   "source": [
    "solution = Solution()\n",
    "k = solution.removeElement([3,2,2,3], 3)\n",
    "print(k)"
   ]
  },
  {
   "cell_type": "code",
   "execution_count": 20,
   "id": "8b0b1581",
   "metadata": {},
   "outputs": [
    {
     "name": "stdout",
     "output_type": "stream",
     "text": [
      "([0, 1, 3, 0, 4, 2, 2, 2], 5)\n"
     ]
    }
   ],
   "source": [
    "solution = Solution()\n",
    "k = solution.removeElement([0,1,2,2,3,0,4,2], 2)\n",
    "print(k)"
   ]
  },
  {
   "cell_type": "code",
   "execution_count": null,
   "id": "82056a12",
   "metadata": {},
   "outputs": [],
   "source": []
  },
  {
   "cell_type": "code",
   "execution_count": null,
   "id": "13c5f927",
   "metadata": {},
   "outputs": [],
   "source": []
  }
 ],
 "metadata": {
  "kernelspec": {
   "display_name": "base",
   "language": "python",
   "name": "python3"
  },
  "language_info": {
   "codemirror_mode": {
    "name": "ipython",
    "version": 3
   },
   "file_extension": ".py",
   "mimetype": "text/x-python",
   "name": "python",
   "nbconvert_exporter": "python",
   "pygments_lexer": "ipython3",
   "version": "3.12.7"
  }
 },
 "nbformat": 4,
 "nbformat_minor": 5
}
