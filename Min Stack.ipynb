{
 "cells": [
  {
   "cell_type": "code",
   "execution_count": null,
   "id": "47032ff8",
   "metadata": {},
   "outputs": [],
   "source": [
    "class MinStack:\n",
    "\n",
    "    def __init__(self):\n",
    "        \n",
    "\n",
    "    def push(self, val: int) -> None:\n",
    "        \n",
    "\n",
    "    def pop(self) -> None:\n",
    "        \n",
    "\n",
    "    def top(self) -> int:\n",
    "        \n",
    "\n",
    "    def getMin(self) -> int:"
   ]
  },
  {
   "cell_type": "code",
   "execution_count": null,
   "id": "30810662",
   "metadata": {},
   "outputs": [],
   "source": []
  },
  {
   "cell_type": "code",
   "execution_count": null,
   "id": "eccb1638",
   "metadata": {},
   "outputs": [],
   "source": []
  },
  {
   "cell_type": "code",
   "execution_count": null,
   "id": "c7d324fb",
   "metadata": {},
   "outputs": [],
   "source": []
  }
 ],
 "metadata": {
  "language_info": {
   "name": "python"
  }
 },
 "nbformat": 4,
 "nbformat_minor": 5
}
